{
 "cells": [
  {
   "cell_type": "code",
   "execution_count": 2,
   "metadata": {
    "vscode": {
     "languageId": "powershell"
    }
   },
   "outputs": [
    {
     "name": "stdout",
     "output_type": "stream",
     "text": [
      "Collecting graphviz\n",
      "  Using cached graphviz-0.21-py3-none-any.whl.metadata (12 kB)\n",
      "Collecting ipywidgets\n",
      "  Using cached ipywidgets-8.1.7-py3-none-any.whl.metadata (2.4 kB)\n",
      "Requirement already satisfied: joblib in c:\\users\\quinnmazaris\\desktop\\ensamble_pipelinev2\\venv\\lib\\site-packages (1.5.0)\n",
      "Requirement already satisfied: comm>=0.1.3 in c:\\users\\quinnmazaris\\desktop\\ensamble_pipelinev2\\venv\\lib\\site-packages (from ipywidgets) (0.2.2)\n",
      "Requirement already satisfied: ipython>=6.1.0 in c:\\users\\quinnmazaris\\desktop\\ensamble_pipelinev2\\venv\\lib\\site-packages (from ipywidgets) (9.3.0)\n",
      "Requirement already satisfied: traitlets>=4.3.1 in c:\\users\\quinnmazaris\\desktop\\ensamble_pipelinev2\\venv\\lib\\site-packages (from ipywidgets) (5.14.3)\n",
      "Collecting widgetsnbextension~=4.0.14 (from ipywidgets)\n",
      "  Using cached widgetsnbextension-4.0.14-py3-none-any.whl.metadata (1.6 kB)\n",
      "Collecting jupyterlab_widgets~=3.0.15 (from ipywidgets)\n",
      "  Using cached jupyterlab_widgets-3.0.15-py3-none-any.whl.metadata (20 kB)\n",
      "Requirement already satisfied: colorama in c:\\users\\quinnmazaris\\desktop\\ensamble_pipelinev2\\venv\\lib\\site-packages (from ipython>=6.1.0->ipywidgets) (0.4.6)\n",
      "Requirement already satisfied: decorator in c:\\users\\quinnmazaris\\desktop\\ensamble_pipelinev2\\venv\\lib\\site-packages (from ipython>=6.1.0->ipywidgets) (5.2.1)\n",
      "Requirement already satisfied: ipython-pygments-lexers in c:\\users\\quinnmazaris\\desktop\\ensamble_pipelinev2\\venv\\lib\\site-packages (from ipython>=6.1.0->ipywidgets) (1.1.1)\n",
      "Requirement already satisfied: jedi>=0.16 in c:\\users\\quinnmazaris\\desktop\\ensamble_pipelinev2\\venv\\lib\\site-packages (from ipython>=6.1.0->ipywidgets) (0.19.2)\n",
      "Requirement already satisfied: matplotlib-inline in c:\\users\\quinnmazaris\\desktop\\ensamble_pipelinev2\\venv\\lib\\site-packages (from ipython>=6.1.0->ipywidgets) (0.1.7)\n",
      "Requirement already satisfied: prompt_toolkit<3.1.0,>=3.0.41 in c:\\users\\quinnmazaris\\desktop\\ensamble_pipelinev2\\venv\\lib\\site-packages (from ipython>=6.1.0->ipywidgets) (3.0.51)\n",
      "Requirement already satisfied: pygments>=2.4.0 in c:\\users\\quinnmazaris\\desktop\\ensamble_pipelinev2\\venv\\lib\\site-packages (from ipython>=6.1.0->ipywidgets) (2.19.1)\n",
      "Requirement already satisfied: stack_data in c:\\users\\quinnmazaris\\desktop\\ensamble_pipelinev2\\venv\\lib\\site-packages (from ipython>=6.1.0->ipywidgets) (0.6.3)\n",
      "Requirement already satisfied: parso<0.9.0,>=0.8.4 in c:\\users\\quinnmazaris\\desktop\\ensamble_pipelinev2\\venv\\lib\\site-packages (from jedi>=0.16->ipython>=6.1.0->ipywidgets) (0.8.4)\n",
      "Requirement already satisfied: wcwidth in c:\\users\\quinnmazaris\\desktop\\ensamble_pipelinev2\\venv\\lib\\site-packages (from prompt_toolkit<3.1.0,>=3.0.41->ipython>=6.1.0->ipywidgets) (0.2.13)\n",
      "Requirement already satisfied: executing>=1.2.0 in c:\\users\\quinnmazaris\\desktop\\ensamble_pipelinev2\\venv\\lib\\site-packages (from stack_data->ipython>=6.1.0->ipywidgets) (2.2.0)\n",
      "Requirement already satisfied: asttokens>=2.1.0 in c:\\users\\quinnmazaris\\desktop\\ensamble_pipelinev2\\venv\\lib\\site-packages (from stack_data->ipython>=6.1.0->ipywidgets) (3.0.0)\n",
      "Requirement already satisfied: pure-eval in c:\\users\\quinnmazaris\\desktop\\ensamble_pipelinev2\\venv\\lib\\site-packages (from stack_data->ipython>=6.1.0->ipywidgets) (0.2.3)\n",
      "Using cached graphviz-0.21-py3-none-any.whl (47 kB)\n",
      "Using cached ipywidgets-8.1.7-py3-none-any.whl (139 kB)\n",
      "Using cached jupyterlab_widgets-3.0.15-py3-none-any.whl (216 kB)\n",
      "Using cached widgetsnbextension-4.0.14-py3-none-any.whl (2.2 MB)\n",
      "Installing collected packages: widgetsnbextension, jupyterlab_widgets, graphviz, ipywidgets\n",
      "Successfully installed graphviz-0.21 ipywidgets-8.1.7 jupyterlab_widgets-3.0.15 widgetsnbextension-4.0.14\n",
      "Note: you may need to restart the kernel to use updated packages.\n"
     ]
    },
    {
     "name": "stderr",
     "output_type": "stream",
     "text": [
      "\n",
      "[notice] A new release of pip is available: 25.0.1 -> 25.1.1\n",
      "[notice] To update, run: python.exe -m pip install --upgrade pip\n"
     ]
    }
   ],
   "source": [
    "pip install graphviz ipywidgets joblib\n"
   ]
  },
  {
   "cell_type": "code",
   "execution_count": 3,
   "metadata": {},
   "outputs": [
    {
     "name": "stdout",
     "output_type": "stream",
     "text": [
      "✅ Tree rendered to rf_tree_0.pdf\n"
     ]
    }
   ],
   "source": [
    "import joblib\n",
    "from sklearn.tree import export_graphviz\n",
    "import graphviz\n",
    "\n",
    "# Load model\n",
    "rf = joblib.load(\"output/models/RandomForest_production.pkl\")\n",
    "\n",
    "# Feature names from your dataset\n",
    "feature_names = [\n",
    "    \"AnomalyScore\",\"RegionArea\",\"MaxVal\",\"RegionCount\",\n",
    "    \"Burn Through\",\"Good\",\"Notching\",\"Porosity\",\n",
    "    \"CL_ConfMax\",\"CL_ConfMargin\",\"Row1\",\"Col1\",\n",
    "    \"Length1\",\"Length2\",\"PHI\",\"OD1_ClassID\",\"OD1_Conf\"\n",
    "]\n",
    "\n",
    "# Export tree #0\n",
    "dot_data = export_graphviz(\n",
    "    rf.estimators_[0],\n",
    "    out_file=None,\n",
    "    feature_names=feature_names,\n",
    "    class_names=rf.classes_.astype(str),\n",
    "    filled=True,\n",
    "    rounded=True,\n",
    "    special_characters=True\n",
    ")\n",
    "\n",
    "# Render to PDF and open it\n",
    "graph = graphviz.Source(dot_data)\n",
    "graph.render(\"rf_tree_0\", format=\"pdf\", view=True)\n",
    "\n",
    "print(\"✅ Tree rendered to rf_tree_0.pdf\")\n"
   ]
  },
  {
   "cell_type": "code",
   "execution_count": 4,
   "metadata": {},
   "outputs": [
    {
     "data": {
      "application/vnd.jupyter.widget-view+json": {
       "model_id": "ccd4f998bd504ed9ad71590512f61bb6",
       "version_major": 2,
       "version_minor": 0
      },
      "text/plain": [
       "IntSlider(value=0, description='Tree #', max=399)"
      ]
     },
     "metadata": {},
     "output_type": "display_data"
    },
    {
     "data": {
      "application/vnd.jupyter.widget-view+json": {
       "model_id": "954950922736475595cfc7c28649ad65",
       "version_major": 2,
       "version_minor": 0
      },
      "text/plain": [
       "Button(description='Export PDF', style=ButtonStyle())"
      ]
     },
     "metadata": {},
     "output_type": "display_data"
    },
    {
     "name": "stderr",
     "output_type": "stream",
     "text": [
      "c:\\Users\\QuinnMazaris\\Desktop\\ensamble_pipelineV2\\venv\\Lib\\site-packages\\xgboost\\plotting.py:267: FutureWarning: The `num_trees` parameter is deprecated, use `tree_idx` insetad. \n",
      "  warnings.warn(\n"
     ]
    },
    {
     "ename": "XGBoostError",
     "evalue": "[08:32:38] C:\\actions-runner\\_work\\xgboost\\xgboost\\src\\tree\\tree_model.cc:594: Failed to parse graphviz parameters:\n\t{\"graph_attrs\": {\"rankdir\": \"TB\", \"num_features\": 17}, \"edge\": {\"yes_color\": \"#0000FF\", \"no_color\": \"#FF0000\"}}\nWith error:\n[08:32:38] C:\\actions-runner\\_work\\xgboost\\xgboost\\dmlc-core\\include\\dmlc/json.h:677: Check failed: ch == '\\\"' (49 vs. \") : Error at Line 0, around ^`7}, \"edge\": {\"yes_color\": \"#0000FF\", \"no_color\": \"#FF0000\"}}`, Expect '\"' but get '1'",
     "output_type": "error",
     "traceback": [
      "\u001b[31m---------------------------------------------------------------------------\u001b[39m",
      "\u001b[31mXGBoostError\u001b[39m                              Traceback (most recent call last)",
      "\u001b[36mCell\u001b[39m\u001b[36m \u001b[39m\u001b[32mIn[4]\u001b[39m\u001b[32m, line 51\u001b[39m\n\u001b[32m     48\u001b[39m export_btn.on_click(on_export)\n\u001b[32m     50\u001b[39m \u001b[38;5;66;03m# Show first tree\u001b[39;00m\n\u001b[32m---> \u001b[39m\u001b[32m51\u001b[39m \u001b[43mshow_tree\u001b[49m\u001b[43m(\u001b[49m\u001b[32;43m0\u001b[39;49m\u001b[43m)\u001b[49m\n",
      "\u001b[36mCell\u001b[39m\u001b[36m \u001b[39m\u001b[32mIn[4]\u001b[39m\u001b[32m, line 30\u001b[39m, in \u001b[36mshow_tree\u001b[39m\u001b[34m(tree_index)\u001b[39m\n\u001b[32m     27\u001b[39m clear_output(wait=\u001b[38;5;28;01mTrue\u001b[39;00m)\n\u001b[32m     28\u001b[39m display(tree_slider, export_btn)\n\u001b[32m---> \u001b[39m\u001b[32m30\u001b[39m g = \u001b[43mto_graphviz\u001b[49m\u001b[43m(\u001b[49m\u001b[43mmodel\u001b[49m\u001b[43m,\u001b[49m\u001b[43m \u001b[49m\u001b[43mnum_trees\u001b[49m\u001b[43m=\u001b[49m\u001b[43mtree_index\u001b[49m\u001b[43m,\u001b[49m\u001b[43m \u001b[49m\u001b[43mrankdir\u001b[49m\u001b[43m=\u001b[49m\u001b[33;43m\"\u001b[39;49m\u001b[33;43mTB\u001b[39;49m\u001b[33;43m\"\u001b[39;49m\u001b[43m,\u001b[49m\u001b[43m \u001b[49m\n\u001b[32m     31\u001b[39m \u001b[43m                \u001b[49m\u001b[43mfmap\u001b[49m\u001b[43m=\u001b[49m\u001b[33;43m\"\u001b[39;49m\u001b[33;43m\"\u001b[39;49m\u001b[43m,\u001b[49m\u001b[43m  \u001b[49m\u001b[38;5;66;43;03m# use default feature map\u001b[39;49;00m\n\u001b[32m     32\u001b[39m \u001b[43m                \u001b[49m\u001b[43mnum_features\u001b[49m\u001b[43m=\u001b[49m\u001b[38;5;28;43mlen\u001b[39;49m\u001b[43m(\u001b[49m\u001b[43mfeature_names\u001b[49m\u001b[43m)\u001b[49m\u001b[43m,\u001b[49m\n\u001b[32m     33\u001b[39m \u001b[43m                \u001b[49m\u001b[43myes_color\u001b[49m\u001b[43m=\u001b[49m\u001b[33;43m'\u001b[39;49m\u001b[33;43m#0000FF\u001b[39;49m\u001b[33;43m'\u001b[39;49m\u001b[43m,\u001b[49m\u001b[43m \u001b[49m\u001b[43mno_color\u001b[49m\u001b[43m=\u001b[49m\u001b[33;43m'\u001b[39;49m\u001b[33;43m#FF0000\u001b[39;49m\u001b[33;43m'\u001b[39;49m\u001b[43m)\u001b[49m\n\u001b[32m     35\u001b[39m display(g)\n",
      "\u001b[36mFile \u001b[39m\u001b[32mc:\\Users\\QuinnMazaris\\Desktop\\ensamble_pipelineV2\\venv\\Lib\\site-packages\\xgboost\\core.py:729\u001b[39m, in \u001b[36mrequire_keyword_args.<locals>.throw_if.<locals>.inner_f\u001b[39m\u001b[34m(*args, **kwargs)\u001b[39m\n\u001b[32m    727\u001b[39m \u001b[38;5;28;01mfor\u001b[39;00m k, arg \u001b[38;5;129;01min\u001b[39;00m \u001b[38;5;28mzip\u001b[39m(sig.parameters, args):\n\u001b[32m    728\u001b[39m     kwargs[k] = arg\n\u001b[32m--> \u001b[39m\u001b[32m729\u001b[39m \u001b[38;5;28;01mreturn\u001b[39;00m \u001b[43mfunc\u001b[49m\u001b[43m(\u001b[49m\u001b[43m*\u001b[49m\u001b[43m*\u001b[49m\u001b[43mkwargs\u001b[49m\u001b[43m)\u001b[49m\n",
      "\u001b[36mFile \u001b[39m\u001b[32mc:\\Users\\QuinnMazaris\\Desktop\\ensamble_pipelineV2\\venv\\Lib\\site-packages\\xgboost\\plotting.py:277\u001b[39m, in \u001b[36mto_graphviz\u001b[39m\u001b[34m(booster, fmap, num_trees, rankdir, yes_color, no_color, condition_node_params, leaf_node_params, with_stats, tree_idx, **kwargs)\u001b[39m\n\u001b[32m    272\u001b[39m         \u001b[38;5;28;01mraise\u001b[39;00m \u001b[38;5;167;01mValueError\u001b[39;00m(\n\u001b[32m    273\u001b[39m             \u001b[33m\"\u001b[39m\u001b[33mBoth `num_trees` and `tree_idx` are used, prefer `tree_idx` instead.\u001b[39m\u001b[33m\"\u001b[39m\n\u001b[32m    274\u001b[39m         )\n\u001b[32m    275\u001b[39m     tree_idx = num_trees\n\u001b[32m--> \u001b[39m\u001b[32m277\u001b[39m tree = \u001b[43mbooster\u001b[49m\u001b[43m.\u001b[49m\u001b[43mget_dump\u001b[49m\u001b[43m(\u001b[49m\u001b[43mfmap\u001b[49m\u001b[43m=\u001b[49m\u001b[43mfmap\u001b[49m\u001b[43m,\u001b[49m\u001b[43m \u001b[49m\u001b[43mdump_format\u001b[49m\u001b[43m=\u001b[49m\u001b[43mparameters\u001b[49m\u001b[43m,\u001b[49m\u001b[43m \u001b[49m\u001b[43mwith_stats\u001b[49m\u001b[43m=\u001b[49m\u001b[43mwith_stats\u001b[49m\u001b[43m)\u001b[49m[\n\u001b[32m    278\u001b[39m     tree_idx\n\u001b[32m    279\u001b[39m ]\n\u001b[32m    280\u001b[39m g = Source(tree)\n\u001b[32m    281\u001b[39m \u001b[38;5;28;01mreturn\u001b[39;00m g\n",
      "\u001b[36mFile \u001b[39m\u001b[32mc:\\Users\\QuinnMazaris\\Desktop\\ensamble_pipelineV2\\venv\\Lib\\site-packages\\xgboost\\core.py:2991\u001b[39m, in \u001b[36mBooster.get_dump\u001b[39m\u001b[34m(self, fmap, with_stats, dump_format)\u001b[39m\n\u001b[32m   2989\u001b[39m length = c_bst_ulong()\n\u001b[32m   2990\u001b[39m sarr = ctypes.POINTER(ctypes.c_char_p)()\n\u001b[32m-> \u001b[39m\u001b[32m2991\u001b[39m \u001b[43m_check_call\u001b[49m\u001b[43m(\u001b[49m\n\u001b[32m   2992\u001b[39m \u001b[43m    \u001b[49m\u001b[43m_LIB\u001b[49m\u001b[43m.\u001b[49m\u001b[43mXGBoosterDumpModelEx\u001b[49m\u001b[43m(\u001b[49m\n\u001b[32m   2993\u001b[39m \u001b[43m        \u001b[49m\u001b[38;5;28;43mself\u001b[39;49m\u001b[43m.\u001b[49m\u001b[43mhandle\u001b[49m\u001b[43m,\u001b[49m\n\u001b[32m   2994\u001b[39m \u001b[43m        \u001b[49m\u001b[43mc_str\u001b[49m\u001b[43m(\u001b[49m\u001b[43mfmap\u001b[49m\u001b[43m)\u001b[49m\u001b[43m,\u001b[49m\n\u001b[32m   2995\u001b[39m \u001b[43m        \u001b[49m\u001b[43mctypes\u001b[49m\u001b[43m.\u001b[49m\u001b[43mc_int\u001b[49m\u001b[43m(\u001b[49m\u001b[43mwith_stats\u001b[49m\u001b[43m)\u001b[49m\u001b[43m,\u001b[49m\n\u001b[32m   2996\u001b[39m \u001b[43m        \u001b[49m\u001b[43mc_str\u001b[49m\u001b[43m(\u001b[49m\u001b[43mdump_format\u001b[49m\u001b[43m)\u001b[49m\u001b[43m,\u001b[49m\n\u001b[32m   2997\u001b[39m \u001b[43m        \u001b[49m\u001b[43mctypes\u001b[49m\u001b[43m.\u001b[49m\u001b[43mbyref\u001b[49m\u001b[43m(\u001b[49m\u001b[43mlength\u001b[49m\u001b[43m)\u001b[49m\u001b[43m,\u001b[49m\n\u001b[32m   2998\u001b[39m \u001b[43m        \u001b[49m\u001b[43mctypes\u001b[49m\u001b[43m.\u001b[49m\u001b[43mbyref\u001b[49m\u001b[43m(\u001b[49m\u001b[43msarr\u001b[49m\u001b[43m)\u001b[49m\u001b[43m,\u001b[49m\n\u001b[32m   2999\u001b[39m \u001b[43m    \u001b[49m\u001b[43m)\u001b[49m\n\u001b[32m   3000\u001b[39m \u001b[43m\u001b[49m\u001b[43m)\u001b[49m\n\u001b[32m   3001\u001b[39m res = from_cstr_to_pystr(sarr, length)\n\u001b[32m   3002\u001b[39m \u001b[38;5;28;01mreturn\u001b[39;00m res\n",
      "\u001b[36mFile \u001b[39m\u001b[32mc:\\Users\\QuinnMazaris\\Desktop\\ensamble_pipelineV2\\venv\\Lib\\site-packages\\xgboost\\core.py:310\u001b[39m, in \u001b[36m_check_call\u001b[39m\u001b[34m(ret)\u001b[39m\n\u001b[32m    299\u001b[39m \u001b[38;5;250m\u001b[39m\u001b[33;03m\"\"\"Check the return value of C API call\u001b[39;00m\n\u001b[32m    300\u001b[39m \n\u001b[32m    301\u001b[39m \u001b[33;03mThis function will raise exception when error occurs.\u001b[39;00m\n\u001b[32m   (...)\u001b[39m\u001b[32m    307\u001b[39m \u001b[33;03m    return value from API calls\u001b[39;00m\n\u001b[32m    308\u001b[39m \u001b[33;03m\"\"\"\u001b[39;00m\n\u001b[32m    309\u001b[39m \u001b[38;5;28;01mif\u001b[39;00m ret != \u001b[32m0\u001b[39m:\n\u001b[32m--> \u001b[39m\u001b[32m310\u001b[39m     \u001b[38;5;28;01mraise\u001b[39;00m XGBoostError(py_str(_LIB.XGBGetLastError()))\n",
      "\u001b[31mXGBoostError\u001b[39m: [08:32:38] C:\\actions-runner\\_work\\xgboost\\xgboost\\src\\tree\\tree_model.cc:594: Failed to parse graphviz parameters:\n\t{\"graph_attrs\": {\"rankdir\": \"TB\", \"num_features\": 17}, \"edge\": {\"yes_color\": \"#0000FF\", \"no_color\": \"#FF0000\"}}\nWith error:\n[08:32:38] C:\\actions-runner\\_work\\xgboost\\xgboost\\dmlc-core\\include\\dmlc/json.h:677: Check failed: ch == '\\\"' (49 vs. \") : Error at Line 0, around ^`7}, \"edge\": {\"yes_color\": \"#0000FF\", \"no_color\": \"#FF0000\"}}`, Expect '\"' but get '1'"
     ]
    }
   ],
   "source": [
    "import joblib\n",
    "import xgboost as xgb\n",
    "from xgboost import to_graphviz\n",
    "import graphviz\n",
    "import ipywidgets as widgets\n",
    "from IPython.display import display, clear_output\n",
    "\n",
    "# Load XGBoost model\n",
    "model = joblib.load(\"output/models/XGBoost_production.pkl\")\n",
    "\n",
    "# Feature names from your dataset\n",
    "feature_names = [\n",
    "    \"AnomalyScore\",\"RegionArea\",\"MaxVal\",\"RegionCount\",\n",
    "    \"Burn Through\",\"Good\",\"Notching\",\"Porosity\",\n",
    "    \"CL_ConfMax\",\"CL_ConfMargin\",\"Row1\",\"Col1\",\n",
    "    \"Length1\",\"Length2\",\"PHI\",\"OD1_ClassID\",\"OD1_Conf\"\n",
    "]\n",
    "\n",
    "# Total number of boosting rounds (trees)\n",
    "num_trees = model.get_booster().num_boosted_rounds()\n",
    "\n",
    "# Slider to choose tree\n",
    "tree_slider = widgets.IntSlider(0, 0, num_trees - 1, step=1, description=\"Tree #\")\n",
    "export_btn = widgets.Button(description=\"Export PDF\")\n",
    "\n",
    "def show_tree(tree_index):\n",
    "    clear_output(wait=True)\n",
    "    display(tree_slider, export_btn)\n",
    "\n",
    "    g = to_graphviz(model, num_trees=tree_index, rankdir=\"TB\", \n",
    "                    fmap=\"\",  # use default feature map\n",
    "                    num_features=len(feature_names),\n",
    "                    yes_color='#0000FF', no_color='#FF0000')\n",
    "    \n",
    "    display(g)\n",
    "\n",
    "def on_slider_change(change):\n",
    "    show_tree(change[\"new\"])\n",
    "\n",
    "def on_export(_):\n",
    "    idx = tree_slider.value\n",
    "    g = to_graphviz(model, num_trees=idx, rankdir=\"TB\")\n",
    "    filename = f\"xgb_tree_{idx}\"\n",
    "    g.render(filename, format=\"pdf\", view=True)\n",
    "    print(f\"✅ Exported {filename}.pdf\")\n",
    "\n",
    "tree_slider.observe(on_slider_change, names=\"value\")\n",
    "export_btn.on_click(on_export)\n",
    "\n",
    "# Show first tree\n",
    "show_tree(0)\n"
   ]
  }
 ],
 "metadata": {
  "kernelspec": {
   "display_name": "venv",
   "language": "python",
   "name": "python3"
  },
  "language_info": {
   "codemirror_mode": {
    "name": "ipython",
    "version": 3
   },
   "file_extension": ".py",
   "mimetype": "text/x-python",
   "name": "python",
   "nbconvert_exporter": "python",
   "pygments_lexer": "ipython3",
   "version": "3.13.3"
  }
 },
 "nbformat": 4,
 "nbformat_minor": 2
}
